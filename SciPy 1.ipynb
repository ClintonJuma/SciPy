{
 "cells": [
  {
   "cell_type": "code",
   "execution_count": 4,
   "id": "7f15b220",
   "metadata": {},
   "outputs": [
    {
     "name": "stdout",
     "output_type": "stream",
     "text": [
      "1.7.3\n"
     ]
    }
   ],
   "source": [
    "#SciPy-Scientific Python\n",
    "import scipy\n",
    "from scipy import constants\n",
    "print(scipy.__version__)#checking scipy version"
   ]
  },
  {
   "cell_type": "markdown",
   "id": "5d7be272",
   "metadata": {},
   "source": [
    "# constants"
   ]
  },
  {
   "cell_type": "code",
   "execution_count": 7,
   "id": "e367fbf0",
   "metadata": {},
   "outputs": [
    {
     "name": "stdout",
     "output_type": "stream",
     "text": [
      "['Avogadro', 'Boltzmann', 'Btu', 'Btu_IT', 'Btu_th', 'ConstantWarning', 'G', 'Julian_year', 'N_A', 'Planck', 'R', 'Rydberg', 'Stefan_Boltzmann', 'Wien', '__all__', '__builtins__', '__cached__', '__doc__', '__file__', '__loader__', '__name__', '__package__', '__path__', '__spec__', '_obsolete_constants', 'acre', 'alpha', 'angstrom', 'arcmin', 'arcminute', 'arcsec', 'arcsecond', 'astronomical_unit', 'atm', 'atmosphere', 'atomic_mass', 'atto', 'au', 'bar', 'barrel', 'bbl', 'blob', 'c', 'calorie', 'calorie_IT', 'calorie_th', 'carat', 'centi', 'codata', 'constants', 'convert_temperature', 'day', 'deci', 'degree', 'degree_Fahrenheit', 'deka', 'dyn', 'dyne', 'e', 'eV', 'electron_mass', 'electron_volt', 'elementary_charge', 'epsilon_0', 'erg', 'exa', 'exbi', 'femto', 'fermi', 'find', 'fine_structure', 'fluid_ounce', 'fluid_ounce_US', 'fluid_ounce_imp', 'foot', 'g', 'gallon', 'gallon_US', 'gallon_imp', 'gas_constant', 'gibi', 'giga', 'golden', 'golden_ratio', 'grain', 'gram', 'gravitational_constant', 'h', 'hbar', 'hectare', 'hecto', 'horsepower', 'hour', 'hp', 'inch', 'k', 'kgf', 'kibi', 'kilo', 'kilogram_force', 'kmh', 'knot', 'lambda2nu', 'lb', 'lbf', 'light_year', 'liter', 'litre', 'long_ton', 'm_e', 'm_n', 'm_p', 'm_u', 'mach', 'mebi', 'mega', 'metric_ton', 'micro', 'micron', 'mil', 'mile', 'milli', 'minute', 'mmHg', 'mph', 'mu_0', 'nano', 'nautical_mile', 'neutron_mass', 'nu2lambda', 'ounce', 'oz', 'parsec', 'pebi', 'peta', 'physical_constants', 'pi', 'pico', 'point', 'pound', 'pound_force', 'precision', 'proton_mass', 'psi', 'pt', 'short_ton', 'sigma', 'slinch', 'slug', 'speed_of_light', 'speed_of_sound', 'stone', 'survey_foot', 'survey_mile', 'tebi', 'tera', 'test', 'ton_TNT', 'torr', 'troy_ounce', 'troy_pound', 'u', 'unit', 'value', 'week', 'yard', 'year', 'yobi', 'yotta', 'zebi', 'zepto', 'zero_Celsius', 'zetta']\n"
     ]
    }
   ],
   "source": [
    "#CONSTANT UNITS, list of all units are seen using dir()\n",
    "from scipy import constants\n",
    "print(dir(constants))"
   ]
  },
  {
   "cell_type": "code",
   "execution_count": 10,
   "id": "4271da5b",
   "metadata": {},
   "outputs": [
    {
     "name": "stdout",
     "output_type": "stream",
     "text": [
      "1e+24\n",
      "1e+21\n",
      "1e+18\n",
      "1000000000000000.0\n",
      "1000000000000.0\n",
      "1000000000.0\n",
      "1000000.0\n",
      "1000.0\n",
      "100.0\n",
      "10.0\n",
      "0.1\n",
      "0.01\n",
      "0.001\n",
      "1e-06\n",
      "1e-09\n",
      "1e-12\n",
      "1e-15\n",
      "1e-18\n",
      "1e-21\n"
     ]
    }
   ],
   "source": [
    "# Return the specified  unit in meter\n",
    "print(constants.yotta)    #1e+24\n",
    "print(constants.zetta)    #1e+21\n",
    "print(constants.exa)      #1e+18\n",
    "print(constants.peta)     #1000000000000000.0\n",
    "print(constants.tera)     #1000000000000.0\n",
    "print(constants.giga)     #1000000000.0\n",
    "print(constants.mega)     #1000000.0\n",
    "print(constants.kilo)     #1000.0\n",
    "print(constants.hecto)    #100.0\n",
    "print(constants.deka)     #10.0\n",
    "print(constants.deci)     #0.1\n",
    "print(constants.centi)    #0.01\n",
    "print(constants.milli)    #0.001\n",
    "print(constants.micro)    #1e-06\n",
    "print(constants.nano)     #1e-09\n",
    "print(constants.pico)     #1e-12\n",
    "print(constants.femto)    #1e-15\n",
    "print(constants.atto)     #1e-18\n",
    "print(constants.zepto)    #1e-21\n",
    "   "
   ]
  },
  {
   "cell_type": "code",
   "execution_count": 11,
   "id": "56b4995f",
   "metadata": {},
   "outputs": [
    {
     "name": "stdout",
     "output_type": "stream",
     "text": [
      "1e-09\n"
     ]
    }
   ],
   "source": [
    "print(constants.nano)"
   ]
  },
  {
   "cell_type": "code",
   "execution_count": 19,
   "id": "348d67dd",
   "metadata": {},
   "outputs": [
    {
     "name": "stdout",
     "output_type": "stream",
     "text": [
      "1024\n",
      "0.001\n",
      "0.45359236999999997\n",
      "0.017453292519943295\n",
      "60.0\n",
      "86400.0\n",
      "0.0254\n",
      "1609.3439999999998\n",
      "101325.0\n"
     ]
    }
   ],
   "source": [
    "# PREFIXES, returns unit in bytes\n",
    "from scipy import constants\n",
    "#Binary\n",
    "print(constants.kibi)  \n",
    "#Mass, returns in kg\n",
    "print(constants.gram)\n",
    "print(constants.pound)\n",
    "#Angle, returns in radian\n",
    "print(constants.degree)\n",
    "#Time, returns unit in seconds\n",
    "print(constants.minute)\n",
    "print(constants.day)\n",
    "#length, retuns in meters\n",
    "print(constants.inch)\n",
    "print(constants.mile)\n",
    "#Pressure, returns in pascals\n",
    "print(constants.atmosphere)"
   ]
  },
  {
   "cell_type": "markdown",
   "id": "d5e5b1d1",
   "metadata": {},
   "source": [
    "# Scipy optimizers"
   ]
  },
  {
   "cell_type": "code",
   "execution_count": 26,
   "id": "3295f900",
   "metadata": {},
   "outputs": [
    {
     "name": "stdout",
     "output_type": "stream",
     "text": [
      "[-0.73908513]\n"
     ]
    }
   ],
   "source": [
    "#optimizers, set of procedures  defined in SciPy\n",
    "        \n",
    "#find root of an equation; x + cos(x)\n",
    "\n",
    "#x is the actual solution\n",
    "from scipy.optimize import root\n",
    "from math import cos\n",
    "\n",
    "def eqn(x):\n",
    "    return x + cos(x)\n",
    "\n",
    "myroot = root(eqn, 0)\n",
    "print(myroot.x)\n",
    "\n",
    "\n"
   ]
  },
  {
   "cell_type": "code",
   "execution_count": 27,
   "id": "0d2f1f50",
   "metadata": {},
   "outputs": [
    {
     "name": "stdout",
     "output_type": "stream",
     "text": [
      "    fjac: array([[-1.]])\n",
      "     fun: array([0.])\n",
      " message: 'The solution converged.'\n",
      "    nfev: 9\n",
      "     qtf: array([-2.66786593e-13])\n",
      "       r: array([-1.67361202])\n",
      "  status: 1\n",
      " success: True\n",
      "       x: array([-0.73908513])\n"
     ]
    }
   ],
   "source": [
    "#print all information about the solution\n",
    "print(myroot)"
   ]
  },
  {
   "cell_type": "code",
   "execution_count": 30,
   "id": "bf79af2c",
   "metadata": {},
   "outputs": [
    {
     "data": {
      "text/plain": [
       "      fun: 1.75\n",
       " hess_inv: array([[0.50000001]])\n",
       "      jac: array([0.])\n",
       "  message: 'Optimization terminated successfully.'\n",
       "     nfev: 8\n",
       "      nit: 2\n",
       "     njev: 4\n",
       "   status: 0\n",
       "  success: True\n",
       "        x: array([-0.50000001])"
      ]
     },
     "execution_count": 30,
     "metadata": {},
     "output_type": "execute_result"
    }
   ],
   "source": [
    "\n",
    "#MINIMIZING A FUNCTION\n",
    "#finding minima\n",
    "import scipy\n",
    "from scipy.optimize import minimize\n",
    "def eqn (x):\n",
    "    return x **2 + x +2\n",
    "mymin = minimize(eqn, 0, method = \"BFGS\")\n",
    "mymin\n"
   ]
  },
  {
   "cell_type": "markdown",
   "id": "82c4fc4e",
   "metadata": {},
   "source": [
    "# SciPy Sparse Data"
   ]
  },
  {
   "cell_type": "code",
   "execution_count": 31,
   "id": "7b8ad638",
   "metadata": {},
   "outputs": [
    {
     "name": "stdout",
     "output_type": "stream",
     "text": [
      "<module 'scipy.sparse' from 'C:\\\\Users\\\\PC\\\\anaconda3\\\\lib\\\\site-packages\\\\scipy\\\\sparse\\\\__init__.py'>\n"
     ]
    }
   ],
   "source": [
    "#Sparse module that provides functions to deal with sparse data\n"
   ]
  },
  {
   "cell_type": "code",
   "execution_count": 32,
   "id": "abfe8740",
   "metadata": {},
   "outputs": [
    {
     "name": "stdout",
     "output_type": "stream",
     "text": [
      "  (0, 5)\t1\n",
      "  (0, 6)\t1\n",
      "  (0, 8)\t2\n"
     ]
    }
   ],
   "source": [
    "#CSC-Compressed Sparse Column\n",
    "#CSR -Compressed Sparse Row\n",
    "\n",
    "#Q. Create a CSR matrix from an array\n",
    "import numpy as np\n",
    "from scipy.sparse import csr_matrix\n",
    "arr = np.array([0, 0, 0, 0, 0, 1, 1, 0, 2])\n",
    "print(csr_matrix(arr))"
   ]
  },
  {
   "cell_type": "markdown",
   "id": "1cce221d",
   "metadata": {},
   "source": [
    "3 items have value:\n",
    "    row 0, position 5-value 1/\n",
    "    row 0, position 6 -value 1/\n",
    "    row 0, postion 8 -value2"
   ]
  },
  {
   "cell_type": "code",
   "execution_count": 34,
   "id": "6da5c131",
   "metadata": {},
   "outputs": [
    {
     "name": "stdout",
     "output_type": "stream",
     "text": [
      "  (0, 0)\t1\n",
      "  (0, 1)\t2\n",
      "  (0, 2)\t3\n",
      "  (0, 3)\t4\n",
      "  (0, 4)\t5\n"
     ]
    }
   ],
   "source": [
    "arr = np.array([1, 2, 3, 4, 5, 0, 0, 0, ])\n",
    "print(csr_matrix(arr))"
   ]
  },
  {
   "cell_type": "markdown",
   "id": "30435523",
   "metadata": {},
   "source": [
    "(row, columns)"
   ]
  },
  {
   "cell_type": "code",
   "execution_count": 37,
   "id": "11883c16",
   "metadata": {},
   "outputs": [
    {
     "name": "stdout",
     "output_type": "stream",
     "text": [
      "[[0 0 0]\n",
      " [0 0 1]\n",
      " [1 0 2]]\n",
      "  (1, 2)\t1\n",
      "  (2, 0)\t1\n",
      "  (2, 2)\t2\n",
      "[1 1 2]\n"
     ]
    }
   ],
   "source": [
    "#SPARSE MATRIX Methods, viewing stored data with data()property\n",
    "import numpy as np\n",
    "from scipy.sparse import csr_matrix\n",
    "arr = np.array ([[0, 0, 0], [0, 0, 1], [1, 0, 2]])\n",
    "print(arr)\n",
    "print(csr_matrix(arr))#returns items with data with zero ites\n",
    "print(csr_matrix(arr).data)#returns stored data without zero item"
   ]
  },
  {
   "cell_type": "code",
   "execution_count": 38,
   "id": "f9630c4e",
   "metadata": {},
   "outputs": [
    {
     "name": "stdout",
     "output_type": "stream",
     "text": [
      "3\n"
     ]
    }
   ],
   "source": [
    "# count_nonzero() method:Counting nonzeros \n",
    "import numpy as np\n",
    "from scipy.sparse import csr_matrix\n",
    "arr = np.array([[0, 0, 0], [0, 0, 1], [1, 0, 2]])\n",
    "print(csr_matrix(arr).count_nonzero()) "
   ]
  },
  {
   "cell_type": "code",
   "execution_count": 41,
   "id": "9f10b890",
   "metadata": {},
   "outputs": [
    {
     "name": "stdout",
     "output_type": "stream",
     "text": [
      "[[0 0 0]\n",
      " [0 0 1]\n",
      " [1 0 2]]\n",
      "  (1, 2)\t1\n",
      "  (2, 0)\t1\n",
      "  (2, 2)\t2\n"
     ]
    }
   ],
   "source": [
    "#eliminate_zeros(); removing zero entries from the matrix\n",
    "print(arr)\n",
    "mat  = csr_matrix(arr)\n",
    "mat.eliminate_zeros()\n",
    "print(mat)"
   ]
  },
  {
   "cell_type": "code",
   "execution_count": 40,
   "id": "3d4513ef",
   "metadata": {},
   "outputs": [
    {
     "name": "stdout",
     "output_type": "stream",
     "text": [
      "  (1, 2)\t1\n",
      "  (2, 0)\t1\n",
      "  (2, 2)\t2\n"
     ]
    }
   ],
   "source": []
  },
  {
   "cell_type": "code",
   "execution_count": 44,
   "id": "9aa202c2",
   "metadata": {},
   "outputs": [
    {
     "name": "stdout",
     "output_type": "stream",
     "text": [
      "[[0 0 0]\n",
      " [0 0 1]\n",
      " [1 0 2]]\n",
      "  (1, 2)\t1\n",
      "  (2, 0)\t1\n",
      "  (2, 2)\t2\n"
     ]
    }
   ],
   "source": [
    "#sum_duplicates() ; eliminating duplicates\n",
    "print(arr)\n",
    "mat = csr_matrix(arr)\n",
    "mat.sum_duplicates()\n",
    "print(mat)"
   ]
  },
  {
   "cell_type": "code",
   "execution_count": 45,
   "id": "2e6088fe",
   "metadata": {},
   "outputs": [
    {
     "name": "stdout",
     "output_type": "stream",
     "text": [
      "  (2, 0)\t1\n",
      "  (1, 2)\t1\n",
      "  (2, 2)\t2\n"
     ]
    }
   ],
   "source": [
    "#tocsc(), Converting from csr to csc \n",
    "newarr = csr_matrix(arr).tocsc()\n",
    "print(newarr)"
   ]
  },
  {
   "cell_type": "code",
   "execution_count": null,
   "id": "dec39701",
   "metadata": {},
   "outputs": [],
   "source": []
  }
 ],
 "metadata": {
  "kernelspec": {
   "display_name": "Python 3 (ipykernel)",
   "language": "python",
   "name": "python3"
  },
  "language_info": {
   "codemirror_mode": {
    "name": "ipython",
    "version": 3
   },
   "file_extension": ".py",
   "mimetype": "text/x-python",
   "name": "python",
   "nbconvert_exporter": "python",
   "pygments_lexer": "ipython3",
   "version": "3.9.12"
  }
 },
 "nbformat": 4,
 "nbformat_minor": 5
}
